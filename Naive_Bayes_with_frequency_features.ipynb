{
 "cells": [
  {
   "cell_type": "code",
   "execution_count": 1,
   "id": "c8e31f80",
   "metadata": {
    "_cell_guid": "b1076dfc-b9ad-4769-8c92-a6c4dae69d19",
    "_uuid": "8f2839f25d086af736a60e9eeb907d3b93b6e0e5",
    "execution": {
     "iopub.execute_input": "2022-01-08T18:13:16.933998Z",
     "iopub.status.busy": "2022-01-08T18:13:16.932933Z",
     "iopub.status.idle": "2022-01-08T18:13:16.944345Z",
     "shell.execute_reply": "2022-01-08T18:13:16.944969Z",
     "shell.execute_reply.started": "2022-01-08T17:55:33.327490Z"
    },
    "papermill": {
     "duration": 0.036905,
     "end_time": "2022-01-08T18:13:16.945270",
     "exception": false,
     "start_time": "2022-01-08T18:13:16.908365",
     "status": "completed"
    },
    "tags": []
   },
   "outputs": [
    {
     "name": "stdout",
     "output_type": "stream",
     "text": [
      "/kaggle/input/spooky-author-identification/train.zip\n",
      "/kaggle/input/spooky-author-identification/test.zip\n",
      "/kaggle/input/spooky-author-identification/sample_submission.zip\n"
     ]
    }
   ],
   "source": [
    "# This Python 3 environment comes with many helpful analytics libraries installed\n",
    "# It is defined by the kaggle/python Docker image: https://github.com/kaggle/docker-python\n",
    "# For example, here's several helpful packages to load\n",
    "\n",
    "import numpy as np # linear algebra\n",
    "import pandas as pd # data processing, CSV file I/O (e.g. pd.read_csv)\n",
    "\n",
    "# Input data files are available in the read-only \"../input/\" directory\n",
    "# For example, running this (by clicking run or pressing Shift+Enter) will list all files under the input directory\n",
    "\n",
    "import os\n",
    "for dirname, _, filenames in os.walk('/kaggle/input'):\n",
    "    for filename in filenames:\n",
    "        print(os.path.join(dirname, filename))\n",
    "\n",
    "# You can write up to 20GB to the current directory (/kaggle/working/) that gets preserved as output when you create a version using \"Save & Run All\" \n",
    "# You can also write temporary files to /kaggle/temp/, but they won't be saved outside of the current session"
   ]
  },
  {
   "cell_type": "code",
   "execution_count": 2,
   "id": "f5d33529",
   "metadata": {
    "execution": {
     "iopub.execute_input": "2022-01-08T18:13:16.981993Z",
     "iopub.status.busy": "2022-01-08T18:13:16.981003Z",
     "iopub.status.idle": "2022-01-08T18:13:17.151144Z",
     "shell.execute_reply": "2022-01-08T18:13:17.150556Z",
     "shell.execute_reply.started": "2022-01-08T17:56:14.188162Z"
    },
    "papermill": {
     "duration": 0.189602,
     "end_time": "2022-01-08T18:13:17.151292",
     "exception": false,
     "start_time": "2022-01-08T18:13:16.961690",
     "status": "completed"
    },
    "tags": []
   },
   "outputs": [
    {
     "data": {
      "text/html": [
       "<div>\n",
       "<style scoped>\n",
       "    .dataframe tbody tr th:only-of-type {\n",
       "        vertical-align: middle;\n",
       "    }\n",
       "\n",
       "    .dataframe tbody tr th {\n",
       "        vertical-align: top;\n",
       "    }\n",
       "\n",
       "    .dataframe thead th {\n",
       "        text-align: right;\n",
       "    }\n",
       "</style>\n",
       "<table border=\"1\" class=\"dataframe\">\n",
       "  <thead>\n",
       "    <tr style=\"text-align: right;\">\n",
       "      <th></th>\n",
       "      <th>id</th>\n",
       "      <th>text</th>\n",
       "      <th>author</th>\n",
       "    </tr>\n",
       "  </thead>\n",
       "  <tbody>\n",
       "    <tr>\n",
       "      <th>0</th>\n",
       "      <td>id26305</td>\n",
       "      <td>This process, however, afforded me no means of...</td>\n",
       "      <td>EAP</td>\n",
       "    </tr>\n",
       "    <tr>\n",
       "      <th>1</th>\n",
       "      <td>id17569</td>\n",
       "      <td>It never once occurred to me that the fumbling...</td>\n",
       "      <td>HPL</td>\n",
       "    </tr>\n",
       "    <tr>\n",
       "      <th>2</th>\n",
       "      <td>id11008</td>\n",
       "      <td>In his left hand was a gold snuff box, from wh...</td>\n",
       "      <td>EAP</td>\n",
       "    </tr>\n",
       "    <tr>\n",
       "      <th>3</th>\n",
       "      <td>id27763</td>\n",
       "      <td>How lovely is spring As we looked from Windsor...</td>\n",
       "      <td>MWS</td>\n",
       "    </tr>\n",
       "    <tr>\n",
       "      <th>4</th>\n",
       "      <td>id12958</td>\n",
       "      <td>Finding nothing else, not even gold, the Super...</td>\n",
       "      <td>HPL</td>\n",
       "    </tr>\n",
       "  </tbody>\n",
       "</table>\n",
       "</div>"
      ],
      "text/plain": [
       "        id                                               text author\n",
       "0  id26305  This process, however, afforded me no means of...    EAP\n",
       "1  id17569  It never once occurred to me that the fumbling...    HPL\n",
       "2  id11008  In his left hand was a gold snuff box, from wh...    EAP\n",
       "3  id27763  How lovely is spring As we looked from Windsor...    MWS\n",
       "4  id12958  Finding nothing else, not even gold, the Super...    HPL"
      ]
     },
     "execution_count": 2,
     "metadata": {},
     "output_type": "execute_result"
    }
   ],
   "source": [
    "df = pd.read_csv('/kaggle/input/spooky-author-identification/train.zip')\n",
    "df.head()"
   ]
  },
  {
   "cell_type": "code",
   "execution_count": 3,
   "id": "9989a771",
   "metadata": {
    "execution": {
     "iopub.execute_input": "2022-01-08T18:13:17.189006Z",
     "iopub.status.busy": "2022-01-08T18:13:17.188236Z",
     "iopub.status.idle": "2022-01-08T18:13:18.366956Z",
     "shell.execute_reply": "2022-01-08T18:13:18.367501Z",
     "shell.execute_reply.started": "2022-01-08T17:58:00.457333Z"
    },
    "papermill": {
     "duration": 1.200911,
     "end_time": "2022-01-08T18:13:18.367688",
     "exception": false,
     "start_time": "2022-01-08T18:13:17.166777",
     "status": "completed"
    },
    "tags": []
   },
   "outputs": [
    {
     "data": {
      "text/plain": [
       "list"
      ]
     },
     "execution_count": 3,
     "metadata": {},
     "output_type": "execute_result"
    }
   ],
   "source": [
    "from sklearn.model_selection import train_test_split\n",
    "X,y  = df[\"text\"],df['author']\n",
    "X_train,X_val,y_train,y_val = train_test_split(X, y, test_size=0.33, random_state=42)\n",
    "X_train = X_train.tolist()\n",
    "X_val = X_val.tolist()\n",
    "y_train = y_train.tolist()\n",
    "y_val = y_val.tolist()\n",
    "\n",
    "type(y_train)"
   ]
  },
  {
   "cell_type": "code",
   "execution_count": 4,
   "id": "29449895",
   "metadata": {
    "execution": {
     "iopub.execute_input": "2022-01-08T18:13:18.405234Z",
     "iopub.status.busy": "2022-01-08T18:13:18.404302Z",
     "iopub.status.idle": "2022-01-08T18:13:19.055632Z",
     "shell.execute_reply": "2022-01-08T18:13:19.054975Z",
     "shell.execute_reply.started": "2022-01-08T17:58:01.515804Z"
    },
    "papermill": {
     "duration": 0.671065,
     "end_time": "2022-01-08T18:13:19.055774",
     "exception": false,
     "start_time": "2022-01-08T18:13:18.384709",
     "status": "completed"
    },
    "tags": []
   },
   "outputs": [
    {
     "data": {
      "text/plain": [
       "['mean',\n",
       " 'fact',\n",
       " 'point',\n",
       " 'awar',\n",
       " 'uniform',\n",
       " 'ascertain',\n",
       " 'perfectli',\n",
       " 'dimens',\n",
       " 'whenc',\n",
       " 'return',\n",
       " 'process',\n",
       " 'set',\n",
       " 'without',\n",
       " 'seem',\n",
       " 'might',\n",
       " 'circuit',\n",
       " 'dungeon',\n",
       " 'afford',\n",
       " 'howev',\n",
       " 'make',\n",
       " 'wall']"
      ]
     },
     "execution_count": 4,
     "metadata": {},
     "output_type": "execute_result"
    }
   ],
   "source": [
    "from nltk import word_tokenize\n",
    "from nltk.corpus import stopwords\n",
    "from nltk.stem import PorterStemmer\n",
    "stopword = set(stopwords.words('english'))\n",
    "import re\n",
    "def preprocess(text):\n",
    "    # remove punctuations \n",
    "    text = re.sub(r',|;|:|!|\\.','',text)\n",
    "    # tokenize text into words\n",
    "    tokens = word_tokenize(text)\n",
    "    # lowercase conversion\n",
    "    tokens = [word.lower() for word in tokens]\n",
    "    # stopwords removal\n",
    "    filtered = [word for word in tokens if not word in stopword]\n",
    "    \"may need to preserve order of sentence\"\n",
    "    filtered = set(filtered)\n",
    "    \n",
    "    # Stemming\n",
    "    ps = PorterStemmer()\n",
    "    processed_text = [ps.stem(word) for word in filtered]\n",
    "    return processed_text\n",
    "\n",
    "preprocess(\"This process, however, afforded me no means of ascertaining the dimensions of my dungeon; as I might make its circuit, and return to the point whence I set out, without being aware of the fact; so perfectly uniform seemed the wall.\")"
   ]
  },
  {
   "cell_type": "code",
   "execution_count": 5,
   "id": "900cf341",
   "metadata": {
    "execution": {
     "iopub.execute_input": "2022-01-08T18:13:19.165535Z",
     "iopub.status.busy": "2022-01-08T18:13:19.128809Z",
     "iopub.status.idle": "2022-01-08T18:13:37.087670Z",
     "shell.execute_reply": "2022-01-08T18:13:37.087019Z",
     "shell.execute_reply.started": "2022-01-08T17:58:03.297769Z"
    },
    "papermill": {
     "duration": 18.014955,
     "end_time": "2022-01-08T18:13:37.087813",
     "exception": false,
     "start_time": "2022-01-08T18:13:19.072858",
     "status": "completed"
    },
    "tags": []
   },
   "outputs": [],
   "source": [
    "l = []\n",
    "vocab = []\n",
    "d = {'EAP':0,'HPL':1,'MWS':2}\n",
    "for text in X_train:\n",
    "    x = preprocess(text)\n",
    "    l.append(x)\n",
    "    for word in x:\n",
    "        if word not in vocab:\n",
    "            vocab.append(word)\n",
    "X_train = l\n",
    "l = [d[i] for i in y_train]\n",
    "y_train = l"
   ]
  },
  {
   "cell_type": "code",
   "execution_count": 6,
   "id": "e4a533ba",
   "metadata": {
    "execution": {
     "iopub.execute_input": "2022-01-08T18:13:37.129975Z",
     "iopub.status.busy": "2022-01-08T18:13:37.129308Z",
     "iopub.status.idle": "2022-01-08T18:13:37.131624Z",
     "shell.execute_reply": "2022-01-08T18:13:37.132172Z",
     "shell.execute_reply.started": "2022-01-08T17:58:16.736774Z"
    },
    "papermill": {
     "duration": 0.028263,
     "end_time": "2022-01-08T18:13:37.132328",
     "exception": false,
     "start_time": "2022-01-08T18:13:37.104065",
     "status": "completed"
    },
    "tags": []
   },
   "outputs": [
    {
     "data": {
      "text/plain": [
       "(13749, 13749)"
      ]
     },
     "execution_count": 6,
     "metadata": {},
     "output_type": "execute_result"
    }
   ],
   "source": [
    "len(vocab),len(set(vocab))"
   ]
  },
  {
   "cell_type": "code",
   "execution_count": 7,
   "id": "9644ffd8",
   "metadata": {
    "execution": {
     "iopub.execute_input": "2022-01-08T18:13:37.167505Z",
     "iopub.status.busy": "2022-01-08T18:13:37.166799Z",
     "iopub.status.idle": "2022-01-08T18:13:37.296329Z",
     "shell.execute_reply": "2022-01-08T18:13:37.295691Z",
     "shell.execute_reply.started": "2022-01-08T17:58:22.130540Z"
    },
    "papermill": {
     "duration": 0.148183,
     "end_time": "2022-01-08T18:13:37.296497",
     "exception": false,
     "start_time": "2022-01-08T18:13:37.148314",
     "status": "completed"
    },
    "tags": []
   },
   "outputs": [],
   "source": [
    "# Making frequency dictionary\n",
    "freqs = {}\n",
    "def count_freqs(text,y,freqs=freqs):\n",
    "    for word in text:\n",
    "        pair = (word,y)\n",
    "        if pair in freqs.keys():\n",
    "            freqs[pair] += 1\n",
    "        else:\n",
    "            freqs[pair] = 1\n",
    "    return freqs\n",
    "\n",
    "for text,y in zip(X_train,y_train):\n",
    "    freqs = count_freqs(text,y)"
   ]
  },
  {
   "cell_type": "code",
   "execution_count": 8,
   "id": "0b7a59e3",
   "metadata": {
    "execution": {
     "iopub.execute_input": "2022-01-08T18:13:37.342524Z",
     "iopub.status.busy": "2022-01-08T18:13:37.338948Z",
     "iopub.status.idle": "2022-01-08T18:13:37.468165Z",
     "shell.execute_reply": "2022-01-08T18:13:37.468673Z",
     "shell.execute_reply.started": "2022-01-08T17:58:22.266593Z"
    },
    "papermill": {
     "duration": 0.156074,
     "end_time": "2022-01-08T18:13:37.468860",
     "exception": false,
     "start_time": "2022-01-08T18:13:37.312786",
     "status": "completed"
    },
    "tags": []
   },
   "outputs": [
    {
     "data": {
      "image/png": "[encoded data removed]",
      "text/plain": [
       "<Figure size 432x288 with 1 Axes>"
      ]
     },
     "metadata": {},
     "output_type": "display_data"
    }
   ],
   "source": [
    "import matplotlib.pyplot as plt\n",
    "\n",
    "y_train_class = [0,0,0]\n",
    "for i in y_train:\n",
    "    if i == 0:\n",
    "        y_train_class[0] += 1\n",
    "    elif i == 1:\n",
    "        y_train_class[1] += 1\n",
    "    else:\n",
    "        y_train_class[2] += 1\n",
    "\n",
    "# y_train_class\n",
    "plt.pie(y_train_class,labels =y_train_class)\n",
    "plt.legend(labels = d,loc = 'center right')\n",
    "plt.show()"
   ]
  },
  {
   "cell_type": "code",
   "execution_count": 9,
   "id": "c8c55883",
   "metadata": {
    "execution": {
     "iopub.execute_input": "2022-01-08T18:13:37.507638Z",
     "iopub.status.busy": "2022-01-08T18:13:37.506608Z",
     "iopub.status.idle": "2022-01-08T18:13:37.512623Z",
     "shell.execute_reply": "2022-01-08T18:13:37.513252Z",
     "shell.execute_reply.started": "2022-01-08T17:58:22.422530Z"
    },
    "papermill": {
     "duration": 0.027001,
     "end_time": "2022-01-08T18:13:37.513447",
     "exception": false,
     "start_time": "2022-01-08T18:13:37.486446",
     "status": "completed"
    },
    "tags": []
   },
   "outputs": [
    {
     "data": {
      "text/plain": [
       "[0.4050468857208203, 0.288404360753221, 0.3065487535259587]"
      ]
     },
     "execution_count": 9,
     "metadata": {},
     "output_type": "execute_result"
    }
   ],
   "source": [
    "prob_y = [(count / len(y_train)) for count in y_train_class]\n",
    "prob_y"
   ]
  },
  {
   "cell_type": "code",
   "execution_count": 10,
   "id": "348406da",
   "metadata": {
    "execution": {
     "iopub.execute_input": "2022-01-08T18:13:37.551794Z",
     "iopub.status.busy": "2022-01-08T18:13:37.550767Z",
     "iopub.status.idle": "2022-01-08T18:13:37.559235Z",
     "shell.execute_reply": "2022-01-08T18:13:37.559848Z",
     "shell.execute_reply.started": "2022-01-08T18:05:20.564008Z"
    },
    "papermill": {
     "duration": 0.029437,
     "end_time": "2022-01-08T18:13:37.560029",
     "exception": false,
     "start_time": "2022-01-08T18:13:37.530592",
     "status": "completed"
    },
    "tags": []
   },
   "outputs": [],
   "source": [
    "# Finding probability of word given that it belongs to class 0,1,2 respectively\n",
    "def count_word_probability(word,class_count = y_train_class,vocab = vocab):\n",
    "    \n",
    "    # Class 0 : EAP\n",
    "    pair = (word,0)\n",
    "    cnt = 0\n",
    "    if pair in freqs.keys():\n",
    "        cnt = freqs[pair]\n",
    "    # Laplacian smoothing alpha = 1 ,k = len(vocab)\n",
    "    prob0 = (cnt + 1) / (class_count[0] + len(vocab))\n",
    "    \n",
    "    # Class 1 : HPL\n",
    "    pair = (word,1)\n",
    "    cnt = 0\n",
    "    if pair in freqs.keys():\n",
    "        cnt = freqs[pair]\n",
    "    # Laplacian smoothing alpha = 1 ,k = len(vocab)\n",
    "    prob1 = (cnt + 1) / (class_count[1] + len(vocab))\n",
    "    \n",
    "    # Class 2 : MWS\n",
    "    pair = (word,2)\n",
    "    cnt = 0\n",
    "    if pair in freqs.keys():\n",
    "        cnt = freqs[pair]\n",
    "    # Laplacian smoothing alpha = 1 ,k = len(vocab)\n",
    "    prob2 = (cnt + 1) / (class_count[2] + len(vocab))\n",
    "    \n",
    "    return prob0,prob1,prob2\n"
   ]
  },
  {
   "cell_type": "code",
   "execution_count": 11,
   "id": "bbe2270f",
   "metadata": {
    "execution": {
     "iopub.execute_input": "2022-01-08T18:13:37.599232Z",
     "iopub.status.busy": "2022-01-08T18:13:37.598239Z",
     "iopub.status.idle": "2022-01-08T18:13:42.523827Z",
     "shell.execute_reply": "2022-01-08T18:13:42.524356Z",
     "shell.execute_reply.started": "2022-01-08T17:59:04.174384Z"
    },
    "papermill": {
     "duration": 4.946524,
     "end_time": "2022-01-08T18:13:42.524548",
     "exception": false,
     "start_time": "2022-01-08T18:13:37.578024",
     "status": "completed"
    },
    "tags": []
   },
   "outputs": [],
   "source": [
    "l_test = []\n",
    "for text in X_val:\n",
    "    l_test.append(preprocess(text))\n",
    "X_val = l_test"
   ]
  },
  {
   "cell_type": "code",
   "execution_count": 12,
   "id": "66183e91",
   "metadata": {
    "execution": {
     "iopub.execute_input": "2022-01-08T18:13:42.567152Z",
     "iopub.status.busy": "2022-01-08T18:13:42.566180Z",
     "iopub.status.idle": "2022-01-08T18:13:42.569958Z",
     "shell.execute_reply": "2022-01-08T18:13:42.570522Z",
     "shell.execute_reply.started": "2022-01-08T17:59:08.305889Z"
    },
    "papermill": {
     "duration": 0.027916,
     "end_time": "2022-01-08T18:13:42.570705",
     "exception": false,
     "start_time": "2022-01-08T18:13:42.542789",
     "status": "completed"
    },
    "tags": []
   },
   "outputs": [
    {
     "data": {
      "text/plain": [
       "['dazzl',\n",
       " 'avail',\n",
       " 'topic',\n",
       " 'immedi',\n",
       " 'gigant',\n",
       " 'natur',\n",
       " 'sum',\n",
       " 'thought',\n",
       " 'bewild',\n",
       " 'magnitud',\n",
       " 'upon']"
      ]
     },
     "execution_count": 12,
     "metadata": {},
     "output_type": "execute_result"
    }
   ],
   "source": [
    "X_val[0]"
   ]
  },
  {
   "cell_type": "code",
   "execution_count": 13,
   "id": "e7844e8e",
   "metadata": {
    "execution": {
     "iopub.execute_input": "2022-01-08T18:13:42.609544Z",
     "iopub.status.busy": "2022-01-08T18:13:42.608865Z",
     "iopub.status.idle": "2022-01-08T18:13:42.615296Z",
     "shell.execute_reply": "2022-01-08T18:13:42.615906Z",
     "shell.execute_reply.started": "2022-01-08T17:59:46.295484Z"
    },
    "papermill": {
     "duration": 0.027599,
     "end_time": "2022-01-08T18:13:42.616101",
     "exception": false,
     "start_time": "2022-01-08T18:13:42.588502",
     "status": "completed"
    },
    "tags": []
   },
   "outputs": [],
   "source": [
    "# Computing log likelihoods for numerical computation\n",
    "from math import log\n",
    "def predict_class(text,vocab = vocab):\n",
    "    log_prob_class = [log(prob_y[0]),log(prob_y[1]),log(prob_y[2])]\n",
    "    prob_class = [log(prob_y[0]),log(prob_y[1]),log(prob_y[2])]\n",
    "    for word in text:\n",
    "        prob_w = count_word_probability(word)\n",
    "        log_prob_class = [(log_prob_class[i] + log(prob_w[i])) for i in range(3)]\n",
    "        prob_class = [(prob_class[i] * (prob_w[i])) for i in range(3)]\n",
    "    return log_prob_class.index(max(log_prob_class))\n",
    "        \n",
    "\n",
    "        "
   ]
  },
  {
   "cell_type": "code",
   "execution_count": 14,
   "id": "9394b62d",
   "metadata": {
    "execution": {
     "iopub.execute_input": "2022-01-08T18:13:42.655335Z",
     "iopub.status.busy": "2022-01-08T18:13:42.654693Z",
     "iopub.status.idle": "2022-01-08T18:13:43.155492Z",
     "shell.execute_reply": "2022-01-08T18:13:43.154918Z",
     "shell.execute_reply.started": "2022-01-08T18:00:56.892247Z"
    },
    "papermill": {
     "duration": 0.521347,
     "end_time": "2022-01-08T18:13:43.155635",
     "exception": false,
     "start_time": "2022-01-08T18:13:42.634288",
     "status": "completed"
    },
    "tags": []
   },
   "outputs": [
    {
     "data": {
      "text/plain": [
       "('EAP', 'EAP')"
      ]
     },
     "execution_count": 14,
     "metadata": {},
     "output_type": "execute_result"
    }
   ],
   "source": [
    "y_hat = []\n",
    "inv_d = {0:'EAP',1:'HPL',2:'MWS'}\n",
    "for text in X_val:\n",
    "    y_hat.append(inv_d[predict_class(text)])\n",
    "y_hat[0],y_val[0]\n",
    "    "
   ]
  },
  {
   "cell_type": "code",
   "execution_count": 15,
   "id": "7f489a57",
   "metadata": {
    "execution": {
     "iopub.execute_input": "2022-01-08T18:13:43.202133Z",
     "iopub.status.busy": "2022-01-08T18:13:43.201487Z",
     "iopub.status.idle": "2022-01-08T18:13:43.205550Z",
     "shell.execute_reply": "2022-01-08T18:13:43.204882Z",
     "shell.execute_reply.started": "2022-01-08T18:03:36.568477Z"
    },
    "papermill": {
     "duration": 0.031118,
     "end_time": "2022-01-08T18:13:43.205690",
     "exception": false,
     "start_time": "2022-01-08T18:13:43.174572",
     "status": "completed"
    },
    "tags": []
   },
   "outputs": [
    {
     "data": {
      "text/plain": [
       "0.8207985143918292"
      ]
     },
     "execution_count": 15,
     "metadata": {},
     "output_type": "execute_result"
    }
   ],
   "source": [
    "y_hat = np.array(y_hat)\n",
    "y_val = np.array(y_val)\n",
    "accuracy = np.sum(y_hat == y_val) / y_val.shape[0]\n",
    "accuracy"
   ]
  },
  {
   "cell_type": "markdown",
   "id": "423d97bf",
   "metadata": {
    "papermill": {
     "duration": 0.018071,
     "end_time": "2022-01-08T18:13:43.242195",
     "exception": false,
     "start_time": "2022-01-08T18:13:43.224124",
     "status": "completed"
    },
    "tags": []
   },
   "source": [
    "# Using NAIVE BAYE'S we get 82.07 % accuracy in the problem of author identfication"
   ]
  },
  {
   "cell_type": "code",
   "execution_count": null,
   "id": "9a6b3ca4",
   "metadata": {
    "papermill": {
     "duration": 0.017999,
     "end_time": "2022-01-08T18:13:43.278594",
     "exception": false,
     "start_time": "2022-01-08T18:13:43.260595",
     "status": "completed"
    },
    "tags": []
   },
   "outputs": [],
   "source": []
  }
 ],
 "metadata": {
  "kernelspec": {
   "display_name": "Python 3",
   "language": "python",
   "name": "python3"
  },
  "language_info": {
   "codemirror_mode": {
    "name": "ipython",
    "version": 3
   },
   "file_extension": ".py",
   "mimetype": "text/x-python",
   "name": "python",
   "nbconvert_exporter": "python",
   "pygments_lexer": "ipython3",
   "version": "3.7.12"
  },
  "papermill": {
   "default_parameters": {},
   "duration": 38.087971,
   "end_time": "2022-01-08T18:13:44.108756",
   "environment_variables": {},
   "exception": null,
   "input_path": "__notebook__.ipynb",
   "output_path": "__notebook__.ipynb",
   "parameters": {},
   "start_time": "2022-01-08T18:13:06.020785",
   "version": "2.3.3"
  }
 },
 "nbformat": 4,
 "nbformat_minor": 5
}
